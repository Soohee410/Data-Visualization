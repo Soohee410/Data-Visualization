{
 "cells": [
  {
   "cell_type": "markdown",
   "metadata": {},
   "source": [
    "# 국내 신종 코로나 바이러스 간단 현황 시각화\n",
    "\n",
    "### 2020년 02월 05일 기준\n",
    "\n",
    "- 코드 참고 : [Plotly Python Open Source Graphing Library](https://plot.ly/python/)\n",
    "- 데이터 출처 : [KBS 디지털뉴스](http://dj.kbs.co.kr/resources/2020-02-03/)"
   ]
  },
  {
   "cell_type": "code",
   "execution_count": 3,
   "metadata": {},
   "outputs": [
    {
     "data": {
      "text/html": [
       "<div>\n",
       "<style scoped>\n",
       "    .dataframe tbody tr th:only-of-type {\n",
       "        vertical-align: middle;\n",
       "    }\n",
       "\n",
       "    .dataframe tbody tr th {\n",
       "        vertical-align: top;\n",
       "    }\n",
       "\n",
       "    .dataframe thead th {\n",
       "        text-align: right;\n",
       "    }\n",
       "</style>\n",
       "<table border=\"1\" class=\"dataframe\">\n",
       "  <thead>\n",
       "    <tr style=\"text-align: right;\">\n",
       "      <th></th>\n",
       "      <th>id</th>\n",
       "      <th>확진자</th>\n",
       "      <th>감염단계</th>\n",
       "      <th>전파자</th>\n",
       "      <th>성별</th>\n",
       "      <th>국적</th>\n",
       "      <th>연령</th>\n",
       "      <th>확진날짜</th>\n",
       "      <th>의료기관</th>\n",
       "      <th>치료여부</th>\n",
       "    </tr>\n",
       "  </thead>\n",
       "  <tbody>\n",
       "    <tr>\n",
       "      <th>0</th>\n",
       "      <td>1</td>\n",
       "      <td>1번</td>\n",
       "      <td>1</td>\n",
       "      <td>NaN</td>\n",
       "      <td>여자</td>\n",
       "      <td>중국</td>\n",
       "      <td>30대</td>\n",
       "      <td>2020-01-20</td>\n",
       "      <td>인천의료원</td>\n",
       "      <td>NaN</td>\n",
       "    </tr>\n",
       "    <tr>\n",
       "      <th>1</th>\n",
       "      <td>2</td>\n",
       "      <td>2번</td>\n",
       "      <td>1</td>\n",
       "      <td>NaN</td>\n",
       "      <td>남자</td>\n",
       "      <td>한국</td>\n",
       "      <td>50대</td>\n",
       "      <td>2020-01-24</td>\n",
       "      <td>국립중앙의료원</td>\n",
       "      <td>완치</td>\n",
       "    </tr>\n",
       "    <tr>\n",
       "      <th>2</th>\n",
       "      <td>3</td>\n",
       "      <td>3번</td>\n",
       "      <td>1</td>\n",
       "      <td>NaN</td>\n",
       "      <td>남자</td>\n",
       "      <td>한국</td>\n",
       "      <td>50대</td>\n",
       "      <td>2020-01-26</td>\n",
       "      <td>명지병원(경기)</td>\n",
       "      <td>NaN</td>\n",
       "    </tr>\n",
       "    <tr>\n",
       "      <th>3</th>\n",
       "      <td>4</td>\n",
       "      <td>4번</td>\n",
       "      <td>1</td>\n",
       "      <td>NaN</td>\n",
       "      <td>남자</td>\n",
       "      <td>한국</td>\n",
       "      <td>50대</td>\n",
       "      <td>2020-01-27</td>\n",
       "      <td>분당서울대병원</td>\n",
       "      <td>NaN</td>\n",
       "    </tr>\n",
       "    <tr>\n",
       "      <th>4</th>\n",
       "      <td>5</td>\n",
       "      <td>5번</td>\n",
       "      <td>1</td>\n",
       "      <td>NaN</td>\n",
       "      <td>남자</td>\n",
       "      <td>한국</td>\n",
       "      <td>30대</td>\n",
       "      <td>2020-01-30</td>\n",
       "      <td>서울의료원</td>\n",
       "      <td>NaN</td>\n",
       "    </tr>\n",
       "  </tbody>\n",
       "</table>\n",
       "</div>"
      ],
      "text/plain": [
       "   id 확진자  감염단계  전파자  성별  국적   연령        확진날짜      의료기관 치료여부\n",
       "0   1  1번     1  NaN  여자  중국  30대  2020-01-20     인천의료원  NaN\n",
       "1   2  2번     1  NaN  남자  한국  50대  2020-01-24   국립중앙의료원   완치\n",
       "2   3  3번     1  NaN  남자  한국  50대  2020-01-26  명지병원(경기)  NaN\n",
       "3   4  4번     1  NaN  남자  한국  50대  2020-01-27   분당서울대병원  NaN\n",
       "4   5  5번     1  NaN  남자  한국  30대  2020-01-30     서울의료원  NaN"
      ]
     },
     "execution_count": 3,
     "metadata": {},
     "output_type": "execute_result"
    }
   ],
   "source": [
    "import pandas as pd\n",
    "import numpy as np\n",
    "import plotly.graph_objects as go\n",
    "\n",
    "data = pd.read_csv('C:/data/2020.02.05 확진자 현황.csv')\n",
    "data.head()"
   ]
  },
  {
   "cell_type": "code",
   "execution_count": 4,
   "metadata": {},
   "outputs": [],
   "source": [
    "y = [10,20,10,20,20,10,40,30,20,13,7,20,30,20,10,20,30,20,10] #임의로 y 좌표 생성\n",
    "data['pos'] = y"
   ]
  },
  {
   "cell_type": "code",
   "execution_count": 5,
   "metadata": {},
   "outputs": [],
   "source": [
    "data1 = data[data.감염단계==1]\n",
    "data2 = data[data.감염단계==2]\n",
    "data3 = data[data.감염단계==3]"
   ]
  },
  {
   "cell_type": "code",
   "execution_count": 36,
   "metadata": {},
   "outputs": [],
   "source": [
    "# hover 기능을 위한 텍스트 데이터\n",
    "text1 = [\"<b>{}</b>\".format(ind) + '<br>성별: {}'.format(sex) + \"<br>연령: {}\".format(age) +\n",
    "        \"<br>국적: {}\".format(nation) + \"<br>확진날짜: {}\".format(date) + \"<br>의료기관: {}\".format(hospital)\n",
    "         for ind, sex, age, nation, date, hospital in zip(data1.확진자, data1.성별, data1.연령, data1.국적, data1.확진날짜, data1.의료기관)]\n",
    "\n",
    "text2 = [\"<b>{}</b>\".format(ind) + '<br>성별: {}'.format(sex) + \"<br>연령: {}\".format(age) +\n",
    "        \"<br>국적: {}\".format(nation) + \"<br>확진날짜: {}\".format(date) + \"<br>의료기관: {}\".format(hospital)\n",
    "         for ind, sex, age, nation, date, hospital in zip(data2.확진자, data2.성별, data2.연령, data2.국적, data2.확진날짜, data2.의료기관)]\n",
    "\n",
    "text3 = [\"<b>{}</b>\".format(ind) + \"<br>성별: {}\".format(sex) + \"<br>연령: {}\".format(age) +\n",
    "        \"<br>국적: {}\".format(nation) + \"<br>확진날짜: {}\".format(date) + \"<br>의료기관: {}\".format(hospital)\n",
    "         for ind, sex, age, nation, date, hospital in zip(data3.확진자, data3.성별, data3.연령, data3.국적, data3.확진날짜, data3.의료기관)]"
   ]
  },
  {
   "cell_type": "code",
   "execution_count": 37,
   "metadata": {},
   "outputs": [
    {
     "data": {
      "application/vnd.plotly.v1+json": {
       "config": {
        "plotlyServerURL": "https://plot.ly"
       },
       "data": [
        {
         "hoverinfo": "text",
         "marker": {
          "color": "rgb(193,221,247)",
          "size": 30
         },
         "mode": "markers",
         "name": "1차 감염자",
         "text": [
          "<b>1번</b><br>성별: 여자<br>연령: 30대<br>국적: 중국<br>확진날짜: 2020-01-20<br>의료기관: 인천의료원",
          "<b>2번</b><br>성별: 남자<br>연령: 50대<br>국적: 한국<br>확진날짜: 2020-01-24<br>의료기관: 국립중앙의료원",
          "<b>3번</b><br>성별: 남자<br>연령: 50대<br>국적: 한국<br>확진날짜: 2020-01-26<br>의료기관: 명지병원(경기)",
          "<b>4번</b><br>성별: 남자<br>연령: 50대<br>국적: 한국<br>확진날짜: 2020-01-27<br>의료기관: 분당서울대병원",
          "<b>5번</b><br>성별: 남자<br>연령: 30대<br>국적: 한국<br>확진날짜: 2020-01-30<br>의료기관: 서울의료원",
          "<b>7번</b><br>성별: 남자<br>연령: 20대<br>국적: 한국<br>확진날짜: 2020-01-31<br>의료기관: 서울의료원",
          "<b>8번</b><br>성별: 여자<br>연령: 60대<br>국적: 한국<br>확진날짜: 2020-01-31<br>의료기관: 원광대병원(익산)",
          "<b>12번</b><br>성별: 남자<br>연령: 40대<br>국적: 중국<br>확진날짜: 2020-02-01<br>의료기관: 분당서울대병원",
          "<b>13번</b><br>성별: 남자<br>연령: 20대<br>국적: 한국<br>확진날짜: 2020-02-02<br>의료기관: 국립중앙의료원",
          "<b>15번</b><br>성별: 남자<br>연령: 30대<br>국적: 한국<br>확진날짜: 2020-02-02<br>의료기관: 국군수도병원",
          "<b>16번</b><br>성별: 여자<br>연령: 30대<br>국적: 한국<br>확진날짜: 2020-02-04<br>의료기관: 전남대병원",
          "<b>17번</b><br>성별: 남자<br>연령: 30대<br>국적: 한국<br>확진날짜: 2020-02-05<br>의료기관: 명지병원(경기)",
          "<b>19번</b><br>성별: 남자<br>연령: 30대<br>국적: 한국<br>확진날짜: 2020-02-05<br>의료기관: 서울의료원"
         ],
         "type": "scatter",
         "x": [
          "2020-01-20",
          "2020-01-24",
          "2020-01-26",
          "2020-01-27",
          "2020-01-30",
          "2020-01-31",
          "2020-01-31",
          "2020-02-01",
          "2020-02-02",
          "2020-02-02",
          "2020-02-04",
          "2020-02-05",
          "2020-02-05"
         ],
         "y": [
          10,
          20,
          10,
          20,
          20,
          40,
          30,
          20,
          30,
          10,
          20,
          30,
          10
         ]
        },
        {
         "hoverinfo": "text",
         "marker": {
          "color": "rgb(193,221,247)",
          "line": {
           "color": "rgb(36,137,228)",
           "width": 2
          },
          "size": 30
         },
         "mode": "markers",
         "name": "2차 감염자",
         "text": [
          "<b>6번</b><br>성별: 남자<br>연령: 50대<br>국적: 한국<br>확진날짜: 2020-01-30<br>의료기관: 서울대병원",
          "<b>9번</b><br>성별: 여자<br>연령: 20대<br>국적: 한국<br>확진날짜: 2020-01-31<br>의료기관: 서울의료원",
          "<b>14번</b><br>성별: 여자<br>연령: 30대<br>국적: 중국<br>확진날짜: 2020-02-02<br>의료기관: 분당서울대병원",
          "<b>18번</b><br>성별: 여자<br>연령: 20대<br>국적: 한국<br>확진날짜: 2020-02-05<br>의료기관: 전남대병원"
         ],
         "type": "scatter",
         "x": [
          "2020-01-30",
          "2020-01-31",
          "2020-02-02",
          "2020-02-05"
         ],
         "y": [
          10,
          20,
          20,
          20
         ]
        },
        {
         "hoverinfo": "text",
         "marker": {
          "color": "rgb(193,221,247)",
          "line": {
           "color": "rgb(18,85,146)",
           "width": 2
          },
          "size": 30
         },
         "mode": "markers",
         "name": "3차 감염자",
         "text": [
          "<b>10번</b><br>성별: 여자<br>연령: 50대<br>국적: 한국<br>확진날짜: 2020-01-31<br>의료기관: 서울대병원",
          "<b>11번</b><br>성별: 남자<br>연령: 20대<br>국적: 한국<br>확진날짜: 2020-01-31<br>의료기관: 서울대병원"
         ],
         "type": "scatter",
         "x": [
          "2020-01-31",
          "2020-01-31"
         ],
         "y": [
          13,
          7
         ]
        }
       ],
       "layout": {
        "annotations": [
         {
          "font": {
           "size": 12
          },
          "showarrow": false,
          "text": "1번",
          "x": "2020-01-20",
          "y": 10
         },
         {
          "font": {
           "size": 12
          },
          "showarrow": false,
          "text": "2번",
          "x": "2020-01-24",
          "y": 20
         },
         {
          "font": {
           "size": 12
          },
          "showarrow": false,
          "text": "3번",
          "x": "2020-01-26",
          "y": 10
         },
         {
          "font": {
           "size": 12
          },
          "showarrow": false,
          "text": "4번",
          "x": "2020-01-27",
          "y": 20
         },
         {
          "font": {
           "size": 12
          },
          "showarrow": false,
          "text": "5번",
          "x": "2020-01-30",
          "y": 20
         },
         {
          "font": {
           "size": 12
          },
          "showarrow": false,
          "text": "6번",
          "x": "2020-01-30",
          "y": 10
         },
         {
          "font": {
           "size": 12
          },
          "showarrow": false,
          "text": "7번",
          "x": "2020-01-31",
          "y": 40
         },
         {
          "font": {
           "size": 12
          },
          "showarrow": false,
          "text": "8번",
          "x": "2020-01-31",
          "y": 30
         },
         {
          "font": {
           "size": 12
          },
          "showarrow": false,
          "text": "9번",
          "x": "2020-01-31",
          "y": 20
         },
         {
          "font": {
           "size": 12
          },
          "showarrow": false,
          "text": "10번",
          "x": "2020-01-31",
          "y": 13
         },
         {
          "font": {
           "size": 12
          },
          "showarrow": false,
          "text": "11번",
          "x": "2020-01-31",
          "y": 7
         },
         {
          "font": {
           "size": 12
          },
          "showarrow": false,
          "text": "12번",
          "x": "2020-02-01",
          "y": 20
         },
         {
          "font": {
           "size": 12
          },
          "showarrow": false,
          "text": "13번",
          "x": "2020-02-02",
          "y": 30
         },
         {
          "font": {
           "size": 12
          },
          "showarrow": false,
          "text": "14번",
          "x": "2020-02-02",
          "y": 20
         },
         {
          "font": {
           "size": 12
          },
          "showarrow": false,
          "text": "15번",
          "x": "2020-02-02",
          "y": 10
         },
         {
          "font": {
           "size": 12
          },
          "showarrow": false,
          "text": "16번",
          "x": "2020-02-04",
          "y": 20
         },
         {
          "font": {
           "size": 12
          },
          "showarrow": false,
          "text": "17번",
          "x": "2020-02-05",
          "y": 30
         },
         {
          "font": {
           "size": 12
          },
          "showarrow": false,
          "text": "18번",
          "x": "2020-02-05",
          "y": 20
         },
         {
          "font": {
           "size": 12
          },
          "showarrow": false,
          "text": "19번",
          "x": "2020-02-05",
          "y": 10
         },
         {
          "font": {
           "color": "rgb(100,100,100)",
           "size": 15
          },
          "showarrow": false,
          "text": "2020년 02월 05일 기준",
          "x": 0,
          "xanchor": "left",
          "xref": "paper",
          "y": 1.06,
          "yanchor": "bottom",
          "yref": "paper"
         },
         {
          "font": {
           "color": "rgb(120,120,120)",
           "family": "Arial",
           "size": 11
          },
          "showarrow": false,
          "text": "데이터 출처: KBS 디지털뉴스 http://dj.kbs.co.kr/resources/2020-02-03/",
          "x": 0.5,
          "xanchor": "center",
          "xref": "paper",
          "y": -0.1,
          "yanchor": "top",
          "yref": "paper"
         },
         {
          "arrowcolor": "rgb(36,137,228)",
          "arrowhead": 1,
          "arrowsize": 2,
          "arrowwidth": 2,
          "ax": -120,
          "ay": 0,
          "showarrow": true,
          "x": "2020-01-29",
          "xshift": 20,
          "y": 10
         },
         {
          "arrowcolor": "rgb(18,85,146)",
          "arrowhead": 1,
          "arrowwidth": 2,
          "ax": -20,
          "ay": 10,
          "showarrow": true,
          "x": "2020-01-31",
          "xshift": -14,
          "y": 13,
          "yshift": -5
         },
         {
          "arrowcolor": "rgb(18,85,146)",
          "arrowhead": 1,
          "arrowwidth": 2,
          "ax": -20,
          "ay": -10,
          "showarrow": true,
          "x": "2020-01-31",
          "xshift": -14,
          "y": 7,
          "yshift": 5
         },
         {
          "arrowcolor": "rgb(36,137,228)",
          "arrowhead": 1,
          "arrowwidth": 2,
          "ax": -18,
          "ay": 0,
          "showarrow": true,
          "x": "2020-01-31",
          "xshift": -12,
          "y": 20
         },
         {
          "arrowcolor": "rgb(36,137,228)",
          "arrowhead": 1,
          "arrowwidth": 2,
          "ax": -18,
          "ay": 0,
          "showarrow": true,
          "x": "2020-02-02",
          "xshift": -12,
          "y": 20
         },
         {
          "arrowcolor": "rgb(36,137,228)",
          "arrowhead": 1,
          "arrowwidth": 2,
          "ax": -18,
          "ay": 0,
          "showarrow": true,
          "x": "2020-02-05",
          "xshift": -12,
          "y": 20
         },
         {
          "font": {
           "color": "rgb(222,98,92)",
           "size": 12
          },
          "showarrow": false,
          "text": "<b>완치!</b>",
          "x": "2020-01-24",
          "y": 20,
          "yshift": 23
         }
        ],
        "autosize": false,
        "height": 500,
        "plot_bgcolor": "white",
        "showlegend": true,
        "template": {
         "data": {
          "bar": [
           {
            "error_x": {
             "color": "#2a3f5f"
            },
            "error_y": {
             "color": "#2a3f5f"
            },
            "marker": {
             "line": {
              "color": "#E5ECF6",
              "width": 0.5
             }
            },
            "type": "bar"
           }
          ],
          "barpolar": [
           {
            "marker": {
             "line": {
              "color": "#E5ECF6",
              "width": 0.5
             }
            },
            "type": "barpolar"
           }
          ],
          "carpet": [
           {
            "aaxis": {
             "endlinecolor": "#2a3f5f",
             "gridcolor": "white",
             "linecolor": "white",
             "minorgridcolor": "white",
             "startlinecolor": "#2a3f5f"
            },
            "baxis": {
             "endlinecolor": "#2a3f5f",
             "gridcolor": "white",
             "linecolor": "white",
             "minorgridcolor": "white",
             "startlinecolor": "#2a3f5f"
            },
            "type": "carpet"
           }
          ],
          "choropleth": [
           {
            "colorbar": {
             "outlinewidth": 0,
             "ticks": ""
            },
            "type": "choropleth"
           }
          ],
          "contour": [
           {
            "colorbar": {
             "outlinewidth": 0,
             "ticks": ""
            },
            "colorscale": [
             [
              0,
              "#0d0887"
             ],
             [
              0.1111111111111111,
              "#46039f"
             ],
             [
              0.2222222222222222,
              "#7201a8"
             ],
             [
              0.3333333333333333,
              "#9c179e"
             ],
             [
              0.4444444444444444,
              "#bd3786"
             ],
             [
              0.5555555555555556,
              "#d8576b"
             ],
             [
              0.6666666666666666,
              "#ed7953"
             ],
             [
              0.7777777777777778,
              "#fb9f3a"
             ],
             [
              0.8888888888888888,
              "#fdca26"
             ],
             [
              1,
              "#f0f921"
             ]
            ],
            "type": "contour"
           }
          ],
          "contourcarpet": [
           {
            "colorbar": {
             "outlinewidth": 0,
             "ticks": ""
            },
            "type": "contourcarpet"
           }
          ],
          "heatmap": [
           {
            "colorbar": {
             "outlinewidth": 0,
             "ticks": ""
            },
            "colorscale": [
             [
              0,
              "#0d0887"
             ],
             [
              0.1111111111111111,
              "#46039f"
             ],
             [
              0.2222222222222222,
              "#7201a8"
             ],
             [
              0.3333333333333333,
              "#9c179e"
             ],
             [
              0.4444444444444444,
              "#bd3786"
             ],
             [
              0.5555555555555556,
              "#d8576b"
             ],
             [
              0.6666666666666666,
              "#ed7953"
             ],
             [
              0.7777777777777778,
              "#fb9f3a"
             ],
             [
              0.8888888888888888,
              "#fdca26"
             ],
             [
              1,
              "#f0f921"
             ]
            ],
            "type": "heatmap"
           }
          ],
          "heatmapgl": [
           {
            "colorbar": {
             "outlinewidth": 0,
             "ticks": ""
            },
            "colorscale": [
             [
              0,
              "#0d0887"
             ],
             [
              0.1111111111111111,
              "#46039f"
             ],
             [
              0.2222222222222222,
              "#7201a8"
             ],
             [
              0.3333333333333333,
              "#9c179e"
             ],
             [
              0.4444444444444444,
              "#bd3786"
             ],
             [
              0.5555555555555556,
              "#d8576b"
             ],
             [
              0.6666666666666666,
              "#ed7953"
             ],
             [
              0.7777777777777778,
              "#fb9f3a"
             ],
             [
              0.8888888888888888,
              "#fdca26"
             ],
             [
              1,
              "#f0f921"
             ]
            ],
            "type": "heatmapgl"
           }
          ],
          "histogram": [
           {
            "marker": {
             "colorbar": {
              "outlinewidth": 0,
              "ticks": ""
             }
            },
            "type": "histogram"
           }
          ],
          "histogram2d": [
           {
            "colorbar": {
             "outlinewidth": 0,
             "ticks": ""
            },
            "colorscale": [
             [
              0,
              "#0d0887"
             ],
             [
              0.1111111111111111,
              "#46039f"
             ],
             [
              0.2222222222222222,
              "#7201a8"
             ],
             [
              0.3333333333333333,
              "#9c179e"
             ],
             [
              0.4444444444444444,
              "#bd3786"
             ],
             [
              0.5555555555555556,
              "#d8576b"
             ],
             [
              0.6666666666666666,
              "#ed7953"
             ],
             [
              0.7777777777777778,
              "#fb9f3a"
             ],
             [
              0.8888888888888888,
              "#fdca26"
             ],
             [
              1,
              "#f0f921"
             ]
            ],
            "type": "histogram2d"
           }
          ],
          "histogram2dcontour": [
           {
            "colorbar": {
             "outlinewidth": 0,
             "ticks": ""
            },
            "colorscale": [
             [
              0,
              "#0d0887"
             ],
             [
              0.1111111111111111,
              "#46039f"
             ],
             [
              0.2222222222222222,
              "#7201a8"
             ],
             [
              0.3333333333333333,
              "#9c179e"
             ],
             [
              0.4444444444444444,
              "#bd3786"
             ],
             [
              0.5555555555555556,
              "#d8576b"
             ],
             [
              0.6666666666666666,
              "#ed7953"
             ],
             [
              0.7777777777777778,
              "#fb9f3a"
             ],
             [
              0.8888888888888888,
              "#fdca26"
             ],
             [
              1,
              "#f0f921"
             ]
            ],
            "type": "histogram2dcontour"
           }
          ],
          "mesh3d": [
           {
            "colorbar": {
             "outlinewidth": 0,
             "ticks": ""
            },
            "type": "mesh3d"
           }
          ],
          "parcoords": [
           {
            "line": {
             "colorbar": {
              "outlinewidth": 0,
              "ticks": ""
             }
            },
            "type": "parcoords"
           }
          ],
          "scatter": [
           {
            "marker": {
             "colorbar": {
              "outlinewidth": 0,
              "ticks": ""
             }
            },
            "type": "scatter"
           }
          ],
          "scatter3d": [
           {
            "line": {
             "colorbar": {
              "outlinewidth": 0,
              "ticks": ""
             }
            },
            "marker": {
             "colorbar": {
              "outlinewidth": 0,
              "ticks": ""
             }
            },
            "type": "scatter3d"
           }
          ],
          "scattercarpet": [
           {
            "marker": {
             "colorbar": {
              "outlinewidth": 0,
              "ticks": ""
             }
            },
            "type": "scattercarpet"
           }
          ],
          "scattergeo": [
           {
            "marker": {
             "colorbar": {
              "outlinewidth": 0,
              "ticks": ""
             }
            },
            "type": "scattergeo"
           }
          ],
          "scattergl": [
           {
            "marker": {
             "colorbar": {
              "outlinewidth": 0,
              "ticks": ""
             }
            },
            "type": "scattergl"
           }
          ],
          "scattermapbox": [
           {
            "marker": {
             "colorbar": {
              "outlinewidth": 0,
              "ticks": ""
             }
            },
            "type": "scattermapbox"
           }
          ],
          "scatterpolar": [
           {
            "marker": {
             "colorbar": {
              "outlinewidth": 0,
              "ticks": ""
             }
            },
            "type": "scatterpolar"
           }
          ],
          "scatterpolargl": [
           {
            "marker": {
             "colorbar": {
              "outlinewidth": 0,
              "ticks": ""
             }
            },
            "type": "scatterpolargl"
           }
          ],
          "scatterternary": [
           {
            "marker": {
             "colorbar": {
              "outlinewidth": 0,
              "ticks": ""
             }
            },
            "type": "scatterternary"
           }
          ],
          "surface": [
           {
            "colorbar": {
             "outlinewidth": 0,
             "ticks": ""
            },
            "colorscale": [
             [
              0,
              "#0d0887"
             ],
             [
              0.1111111111111111,
              "#46039f"
             ],
             [
              0.2222222222222222,
              "#7201a8"
             ],
             [
              0.3333333333333333,
              "#9c179e"
             ],
             [
              0.4444444444444444,
              "#bd3786"
             ],
             [
              0.5555555555555556,
              "#d8576b"
             ],
             [
              0.6666666666666666,
              "#ed7953"
             ],
             [
              0.7777777777777778,
              "#fb9f3a"
             ],
             [
              0.8888888888888888,
              "#fdca26"
             ],
             [
              1,
              "#f0f921"
             ]
            ],
            "type": "surface"
           }
          ],
          "table": [
           {
            "cells": {
             "fill": {
              "color": "#EBF0F8"
             },
             "line": {
              "color": "white"
             }
            },
            "header": {
             "fill": {
              "color": "#C8D4E3"
             },
             "line": {
              "color": "white"
             }
            },
            "type": "table"
           }
          ]
         },
         "layout": {
          "annotationdefaults": {
           "arrowcolor": "#2a3f5f",
           "arrowhead": 0,
           "arrowwidth": 1
          },
          "colorscale": {
           "diverging": [
            [
             0,
             "#8e0152"
            ],
            [
             0.1,
             "#c51b7d"
            ],
            [
             0.2,
             "#de77ae"
            ],
            [
             0.3,
             "#f1b6da"
            ],
            [
             0.4,
             "#fde0ef"
            ],
            [
             0.5,
             "#f7f7f7"
            ],
            [
             0.6,
             "#e6f5d0"
            ],
            [
             0.7,
             "#b8e186"
            ],
            [
             0.8,
             "#7fbc41"
            ],
            [
             0.9,
             "#4d9221"
            ],
            [
             1,
             "#276419"
            ]
           ],
           "sequential": [
            [
             0,
             "#0d0887"
            ],
            [
             0.1111111111111111,
             "#46039f"
            ],
            [
             0.2222222222222222,
             "#7201a8"
            ],
            [
             0.3333333333333333,
             "#9c179e"
            ],
            [
             0.4444444444444444,
             "#bd3786"
            ],
            [
             0.5555555555555556,
             "#d8576b"
            ],
            [
             0.6666666666666666,
             "#ed7953"
            ],
            [
             0.7777777777777778,
             "#fb9f3a"
            ],
            [
             0.8888888888888888,
             "#fdca26"
            ],
            [
             1,
             "#f0f921"
            ]
           ],
           "sequentialminus": [
            [
             0,
             "#0d0887"
            ],
            [
             0.1111111111111111,
             "#46039f"
            ],
            [
             0.2222222222222222,
             "#7201a8"
            ],
            [
             0.3333333333333333,
             "#9c179e"
            ],
            [
             0.4444444444444444,
             "#bd3786"
            ],
            [
             0.5555555555555556,
             "#d8576b"
            ],
            [
             0.6666666666666666,
             "#ed7953"
            ],
            [
             0.7777777777777778,
             "#fb9f3a"
            ],
            [
             0.8888888888888888,
             "#fdca26"
            ],
            [
             1,
             "#f0f921"
            ]
           ]
          },
          "colorway": [
           "#636efa",
           "#EF553B",
           "#00cc96",
           "#ab63fa",
           "#FFA15A",
           "#19d3f3",
           "#FF6692",
           "#B6E880",
           "#FF97FF",
           "#FECB52"
          ],
          "font": {
           "color": "#2a3f5f"
          },
          "geo": {
           "bgcolor": "white",
           "lakecolor": "white",
           "landcolor": "#E5ECF6",
           "showlakes": true,
           "showland": true,
           "subunitcolor": "white"
          },
          "hoverlabel": {
           "align": "left"
          },
          "hovermode": "closest",
          "mapbox": {
           "style": "light"
          },
          "paper_bgcolor": "white",
          "plot_bgcolor": "#E5ECF6",
          "polar": {
           "angularaxis": {
            "gridcolor": "white",
            "linecolor": "white",
            "ticks": ""
           },
           "bgcolor": "#E5ECF6",
           "radialaxis": {
            "gridcolor": "white",
            "linecolor": "white",
            "ticks": ""
           }
          },
          "scene": {
           "xaxis": {
            "backgroundcolor": "#E5ECF6",
            "gridcolor": "white",
            "gridwidth": 2,
            "linecolor": "white",
            "showbackground": true,
            "ticks": "",
            "zerolinecolor": "white"
           },
           "yaxis": {
            "backgroundcolor": "#E5ECF6",
            "gridcolor": "white",
            "gridwidth": 2,
            "linecolor": "white",
            "showbackground": true,
            "ticks": "",
            "zerolinecolor": "white"
           },
           "zaxis": {
            "backgroundcolor": "#E5ECF6",
            "gridcolor": "white",
            "gridwidth": 2,
            "linecolor": "white",
            "showbackground": true,
            "ticks": "",
            "zerolinecolor": "white"
           }
          },
          "shapedefaults": {
           "line": {
            "color": "#2a3f5f"
           }
          },
          "ternary": {
           "aaxis": {
            "gridcolor": "white",
            "linecolor": "white",
            "ticks": ""
           },
           "baxis": {
            "gridcolor": "white",
            "linecolor": "white",
            "ticks": ""
           },
           "bgcolor": "#E5ECF6",
           "caxis": {
            "gridcolor": "white",
            "linecolor": "white",
            "ticks": ""
           }
          },
          "title": {
           "x": 0.05
          },
          "xaxis": {
           "automargin": true,
           "gridcolor": "white",
           "linecolor": "white",
           "ticks": "",
           "zerolinecolor": "white",
           "zerolinewidth": 2
          },
          "yaxis": {
           "automargin": true,
           "gridcolor": "white",
           "linecolor": "white",
           "ticks": "",
           "zerolinecolor": "white",
           "zerolinewidth": 2
          }
         }
        },
        "title": {
         "font": {
          "size": 25
         },
         "text": "<b>국내 신종 코로나 바이러스 확진자</b>"
        },
        "width": 900,
        "xaxis": {
         "gridcolor": "rgb(204, 204, 204)",
         "linecolor": "rgb(204, 204, 204)",
         "linewidth": 2,
         "showgrid": true,
         "showline": true,
         "showticklabels": true,
         "tickfont": {
          "color": "rgb(82, 82, 82)",
          "family": "Arial",
          "size": 12
         },
         "ticks": "outside"
        },
        "yaxis": {
         "showgrid": false,
         "showline": false,
         "showticklabels": false,
         "zeroline": false
        }
       }
      },
      "text/html": [
       "<div>\n",
       "        \n",
       "        \n",
       "            <div id=\"0024c002-c467-4550-8658-204d06b28866\" class=\"plotly-graph-div\" style=\"height:500px; width:900px;\"></div>\n",
       "            <script type=\"text/javascript\">\n",
       "                require([\"plotly\"], function(Plotly) {\n",
       "                    window.PLOTLYENV=window.PLOTLYENV || {};\n",
       "                    \n",
       "                if (document.getElementById(\"0024c002-c467-4550-8658-204d06b28866\")) {\n",
       "                    Plotly.newPlot(\n",
       "                        '0024c002-c467-4550-8658-204d06b28866',\n",
       "                        [{\"hoverinfo\": \"text\", \"marker\": {\"color\": \"rgb(193,221,247)\", \"size\": 30}, \"mode\": \"markers\", \"name\": \"1\\ucc28 \\uac10\\uc5fc\\uc790\", \"text\": [\"<b>1\\ubc88</b><br>\\uc131\\ubcc4: \\uc5ec\\uc790<br>\\uc5f0\\ub839: 30\\ub300<br>\\uad6d\\uc801: \\uc911\\uad6d<br>\\ud655\\uc9c4\\ub0a0\\uc9dc: 2020-01-20<br>\\uc758\\ub8cc\\uae30\\uad00: \\uc778\\ucc9c\\uc758\\ub8cc\\uc6d0\", \"<b>2\\ubc88</b><br>\\uc131\\ubcc4: \\ub0a8\\uc790<br>\\uc5f0\\ub839: 50\\ub300<br>\\uad6d\\uc801: \\ud55c\\uad6d<br>\\ud655\\uc9c4\\ub0a0\\uc9dc: 2020-01-24<br>\\uc758\\ub8cc\\uae30\\uad00: \\uad6d\\ub9bd\\uc911\\uc559\\uc758\\ub8cc\\uc6d0\", \"<b>3\\ubc88</b><br>\\uc131\\ubcc4: \\ub0a8\\uc790<br>\\uc5f0\\ub839: 50\\ub300<br>\\uad6d\\uc801: \\ud55c\\uad6d<br>\\ud655\\uc9c4\\ub0a0\\uc9dc: 2020-01-26<br>\\uc758\\ub8cc\\uae30\\uad00: \\uba85\\uc9c0\\ubcd1\\uc6d0(\\uacbd\\uae30)\", \"<b>4\\ubc88</b><br>\\uc131\\ubcc4: \\ub0a8\\uc790<br>\\uc5f0\\ub839: 50\\ub300<br>\\uad6d\\uc801: \\ud55c\\uad6d<br>\\ud655\\uc9c4\\ub0a0\\uc9dc: 2020-01-27<br>\\uc758\\ub8cc\\uae30\\uad00: \\ubd84\\ub2f9\\uc11c\\uc6b8\\ub300\\ubcd1\\uc6d0\", \"<b>5\\ubc88</b><br>\\uc131\\ubcc4: \\ub0a8\\uc790<br>\\uc5f0\\ub839: 30\\ub300<br>\\uad6d\\uc801: \\ud55c\\uad6d<br>\\ud655\\uc9c4\\ub0a0\\uc9dc: 2020-01-30<br>\\uc758\\ub8cc\\uae30\\uad00: \\uc11c\\uc6b8\\uc758\\ub8cc\\uc6d0\", \"<b>7\\ubc88</b><br>\\uc131\\ubcc4: \\ub0a8\\uc790<br>\\uc5f0\\ub839: 20\\ub300<br>\\uad6d\\uc801: \\ud55c\\uad6d<br>\\ud655\\uc9c4\\ub0a0\\uc9dc: 2020-01-31<br>\\uc758\\ub8cc\\uae30\\uad00: \\uc11c\\uc6b8\\uc758\\ub8cc\\uc6d0\", \"<b>8\\ubc88</b><br>\\uc131\\ubcc4: \\uc5ec\\uc790<br>\\uc5f0\\ub839: 60\\ub300<br>\\uad6d\\uc801: \\ud55c\\uad6d<br>\\ud655\\uc9c4\\ub0a0\\uc9dc: 2020-01-31<br>\\uc758\\ub8cc\\uae30\\uad00: \\uc6d0\\uad11\\ub300\\ubcd1\\uc6d0(\\uc775\\uc0b0)\", \"<b>12\\ubc88</b><br>\\uc131\\ubcc4: \\ub0a8\\uc790<br>\\uc5f0\\ub839: 40\\ub300<br>\\uad6d\\uc801: \\uc911\\uad6d<br>\\ud655\\uc9c4\\ub0a0\\uc9dc: 2020-02-01<br>\\uc758\\ub8cc\\uae30\\uad00: \\ubd84\\ub2f9\\uc11c\\uc6b8\\ub300\\ubcd1\\uc6d0\", \"<b>13\\ubc88</b><br>\\uc131\\ubcc4: \\ub0a8\\uc790<br>\\uc5f0\\ub839: 20\\ub300<br>\\uad6d\\uc801: \\ud55c\\uad6d<br>\\ud655\\uc9c4\\ub0a0\\uc9dc: 2020-02-02<br>\\uc758\\ub8cc\\uae30\\uad00: \\uad6d\\ub9bd\\uc911\\uc559\\uc758\\ub8cc\\uc6d0\", \"<b>15\\ubc88</b><br>\\uc131\\ubcc4: \\ub0a8\\uc790<br>\\uc5f0\\ub839: 30\\ub300<br>\\uad6d\\uc801: \\ud55c\\uad6d<br>\\ud655\\uc9c4\\ub0a0\\uc9dc: 2020-02-02<br>\\uc758\\ub8cc\\uae30\\uad00: \\uad6d\\uad70\\uc218\\ub3c4\\ubcd1\\uc6d0\", \"<b>16\\ubc88</b><br>\\uc131\\ubcc4: \\uc5ec\\uc790<br>\\uc5f0\\ub839: 30\\ub300<br>\\uad6d\\uc801: \\ud55c\\uad6d<br>\\ud655\\uc9c4\\ub0a0\\uc9dc: 2020-02-04<br>\\uc758\\ub8cc\\uae30\\uad00: \\uc804\\ub0a8\\ub300\\ubcd1\\uc6d0\", \"<b>17\\ubc88</b><br>\\uc131\\ubcc4: \\ub0a8\\uc790<br>\\uc5f0\\ub839: 30\\ub300<br>\\uad6d\\uc801: \\ud55c\\uad6d<br>\\ud655\\uc9c4\\ub0a0\\uc9dc: 2020-02-05<br>\\uc758\\ub8cc\\uae30\\uad00: \\uba85\\uc9c0\\ubcd1\\uc6d0(\\uacbd\\uae30)\", \"<b>19\\ubc88</b><br>\\uc131\\ubcc4: \\ub0a8\\uc790<br>\\uc5f0\\ub839: 30\\ub300<br>\\uad6d\\uc801: \\ud55c\\uad6d<br>\\ud655\\uc9c4\\ub0a0\\uc9dc: 2020-02-05<br>\\uc758\\ub8cc\\uae30\\uad00: \\uc11c\\uc6b8\\uc758\\ub8cc\\uc6d0\"], \"type\": \"scatter\", \"x\": [\"2020-01-20\", \"2020-01-24\", \"2020-01-26\", \"2020-01-27\", \"2020-01-30\", \"2020-01-31\", \"2020-01-31\", \"2020-02-01\", \"2020-02-02\", \"2020-02-02\", \"2020-02-04\", \"2020-02-05\", \"2020-02-05\"], \"y\": [10, 20, 10, 20, 20, 40, 30, 20, 30, 10, 20, 30, 10]}, {\"hoverinfo\": \"text\", \"marker\": {\"color\": \"rgb(193,221,247)\", \"line\": {\"color\": \"rgb(36,137,228)\", \"width\": 2}, \"size\": 30}, \"mode\": \"markers\", \"name\": \"2\\ucc28 \\uac10\\uc5fc\\uc790\", \"text\": [\"<b>6\\ubc88</b><br>\\uc131\\ubcc4: \\ub0a8\\uc790<br>\\uc5f0\\ub839: 50\\ub300<br>\\uad6d\\uc801: \\ud55c\\uad6d<br>\\ud655\\uc9c4\\ub0a0\\uc9dc: 2020-01-30<br>\\uc758\\ub8cc\\uae30\\uad00: \\uc11c\\uc6b8\\ub300\\ubcd1\\uc6d0\", \"<b>9\\ubc88</b><br>\\uc131\\ubcc4: \\uc5ec\\uc790<br>\\uc5f0\\ub839: 20\\ub300<br>\\uad6d\\uc801: \\ud55c\\uad6d<br>\\ud655\\uc9c4\\ub0a0\\uc9dc: 2020-01-31<br>\\uc758\\ub8cc\\uae30\\uad00: \\uc11c\\uc6b8\\uc758\\ub8cc\\uc6d0\", \"<b>14\\ubc88</b><br>\\uc131\\ubcc4: \\uc5ec\\uc790<br>\\uc5f0\\ub839: 30\\ub300<br>\\uad6d\\uc801: \\uc911\\uad6d<br>\\ud655\\uc9c4\\ub0a0\\uc9dc: 2020-02-02<br>\\uc758\\ub8cc\\uae30\\uad00: \\ubd84\\ub2f9\\uc11c\\uc6b8\\ub300\\ubcd1\\uc6d0\", \"<b>18\\ubc88</b><br>\\uc131\\ubcc4: \\uc5ec\\uc790<br>\\uc5f0\\ub839: 20\\ub300<br>\\uad6d\\uc801: \\ud55c\\uad6d<br>\\ud655\\uc9c4\\ub0a0\\uc9dc: 2020-02-05<br>\\uc758\\ub8cc\\uae30\\uad00: \\uc804\\ub0a8\\ub300\\ubcd1\\uc6d0\"], \"type\": \"scatter\", \"x\": [\"2020-01-30\", \"2020-01-31\", \"2020-02-02\", \"2020-02-05\"], \"y\": [10, 20, 20, 20]}, {\"hoverinfo\": \"text\", \"marker\": {\"color\": \"rgb(193,221,247)\", \"line\": {\"color\": \"rgb(18,85,146)\", \"width\": 2}, \"size\": 30}, \"mode\": \"markers\", \"name\": \"3\\ucc28 \\uac10\\uc5fc\\uc790\", \"text\": [\"<b>10\\ubc88</b><br>\\uc131\\ubcc4: \\uc5ec\\uc790<br>\\uc5f0\\ub839: 50\\ub300<br>\\uad6d\\uc801: \\ud55c\\uad6d<br>\\ud655\\uc9c4\\ub0a0\\uc9dc: 2020-01-31<br>\\uc758\\ub8cc\\uae30\\uad00: \\uc11c\\uc6b8\\ub300\\ubcd1\\uc6d0\", \"<b>11\\ubc88</b><br>\\uc131\\ubcc4: \\ub0a8\\uc790<br>\\uc5f0\\ub839: 20\\ub300<br>\\uad6d\\uc801: \\ud55c\\uad6d<br>\\ud655\\uc9c4\\ub0a0\\uc9dc: 2020-01-31<br>\\uc758\\ub8cc\\uae30\\uad00: \\uc11c\\uc6b8\\ub300\\ubcd1\\uc6d0\"], \"type\": \"scatter\", \"x\": [\"2020-01-31\", \"2020-01-31\"], \"y\": [13, 7]}],\n",
       "                        {\"annotations\": [{\"font\": {\"size\": 12}, \"showarrow\": false, \"text\": \"1\\ubc88\", \"x\": \"2020-01-20\", \"y\": 10}, {\"font\": {\"size\": 12}, \"showarrow\": false, \"text\": \"2\\ubc88\", \"x\": \"2020-01-24\", \"y\": 20}, {\"font\": {\"size\": 12}, \"showarrow\": false, \"text\": \"3\\ubc88\", \"x\": \"2020-01-26\", \"y\": 10}, {\"font\": {\"size\": 12}, \"showarrow\": false, \"text\": \"4\\ubc88\", \"x\": \"2020-01-27\", \"y\": 20}, {\"font\": {\"size\": 12}, \"showarrow\": false, \"text\": \"5\\ubc88\", \"x\": \"2020-01-30\", \"y\": 20}, {\"font\": {\"size\": 12}, \"showarrow\": false, \"text\": \"6\\ubc88\", \"x\": \"2020-01-30\", \"y\": 10}, {\"font\": {\"size\": 12}, \"showarrow\": false, \"text\": \"7\\ubc88\", \"x\": \"2020-01-31\", \"y\": 40}, {\"font\": {\"size\": 12}, \"showarrow\": false, \"text\": \"8\\ubc88\", \"x\": \"2020-01-31\", \"y\": 30}, {\"font\": {\"size\": 12}, \"showarrow\": false, \"text\": \"9\\ubc88\", \"x\": \"2020-01-31\", \"y\": 20}, {\"font\": {\"size\": 12}, \"showarrow\": false, \"text\": \"10\\ubc88\", \"x\": \"2020-01-31\", \"y\": 13}, {\"font\": {\"size\": 12}, \"showarrow\": false, \"text\": \"11\\ubc88\", \"x\": \"2020-01-31\", \"y\": 7}, {\"font\": {\"size\": 12}, \"showarrow\": false, \"text\": \"12\\ubc88\", \"x\": \"2020-02-01\", \"y\": 20}, {\"font\": {\"size\": 12}, \"showarrow\": false, \"text\": \"13\\ubc88\", \"x\": \"2020-02-02\", \"y\": 30}, {\"font\": {\"size\": 12}, \"showarrow\": false, \"text\": \"14\\ubc88\", \"x\": \"2020-02-02\", \"y\": 20}, {\"font\": {\"size\": 12}, \"showarrow\": false, \"text\": \"15\\ubc88\", \"x\": \"2020-02-02\", \"y\": 10}, {\"font\": {\"size\": 12}, \"showarrow\": false, \"text\": \"16\\ubc88\", \"x\": \"2020-02-04\", \"y\": 20}, {\"font\": {\"size\": 12}, \"showarrow\": false, \"text\": \"17\\ubc88\", \"x\": \"2020-02-05\", \"y\": 30}, {\"font\": {\"size\": 12}, \"showarrow\": false, \"text\": \"18\\ubc88\", \"x\": \"2020-02-05\", \"y\": 20}, {\"font\": {\"size\": 12}, \"showarrow\": false, \"text\": \"19\\ubc88\", \"x\": \"2020-02-05\", \"y\": 10}, {\"font\": {\"color\": \"rgb(100,100,100)\", \"size\": 15}, \"showarrow\": false, \"text\": \"2020\\ub144 02\\uc6d4 05\\uc77c \\uae30\\uc900\", \"x\": 0, \"xanchor\": \"left\", \"xref\": \"paper\", \"y\": 1.06, \"yanchor\": \"bottom\", \"yref\": \"paper\"}, {\"font\": {\"color\": \"rgb(120,120,120)\", \"family\": \"Arial\", \"size\": 11}, \"showarrow\": false, \"text\": \"\\ub370\\uc774\\ud130 \\ucd9c\\ucc98: KBS \\ub514\\uc9c0\\ud138\\ub274\\uc2a4 http://dj.kbs.co.kr/resources/2020-02-03/\", \"x\": 0.5, \"xanchor\": \"center\", \"xref\": \"paper\", \"y\": -0.1, \"yanchor\": \"top\", \"yref\": \"paper\"}, {\"arrowcolor\": \"rgb(36,137,228)\", \"arrowhead\": 1, \"arrowsize\": 2, \"arrowwidth\": 2, \"ax\": -120, \"ay\": 0, \"showarrow\": true, \"x\": \"2020-01-29\", \"xshift\": 20, \"y\": 10}, {\"arrowcolor\": \"rgb(18,85,146)\", \"arrowhead\": 1, \"arrowwidth\": 2, \"ax\": -20, \"ay\": 10, \"showarrow\": true, \"x\": \"2020-01-31\", \"xshift\": -14, \"y\": 13, \"yshift\": -5}, {\"arrowcolor\": \"rgb(18,85,146)\", \"arrowhead\": 1, \"arrowwidth\": 2, \"ax\": -20, \"ay\": -10, \"showarrow\": true, \"x\": \"2020-01-31\", \"xshift\": -14, \"y\": 7, \"yshift\": 5}, {\"arrowcolor\": \"rgb(36,137,228)\", \"arrowhead\": 1, \"arrowwidth\": 2, \"ax\": -18, \"ay\": 0, \"showarrow\": true, \"x\": \"2020-01-31\", \"xshift\": -12, \"y\": 20}, {\"arrowcolor\": \"rgb(36,137,228)\", \"arrowhead\": 1, \"arrowwidth\": 2, \"ax\": -18, \"ay\": 0, \"showarrow\": true, \"x\": \"2020-02-02\", \"xshift\": -12, \"y\": 20}, {\"arrowcolor\": \"rgb(36,137,228)\", \"arrowhead\": 1, \"arrowwidth\": 2, \"ax\": -18, \"ay\": 0, \"showarrow\": true, \"x\": \"2020-02-05\", \"xshift\": -12, \"y\": 20}, {\"font\": {\"color\": \"rgb(222,98,92)\", \"size\": 12}, \"showarrow\": false, \"text\": \"<b>\\uc644\\uce58!</b>\", \"x\": \"2020-01-24\", \"y\": 20, \"yshift\": 23}], \"autosize\": false, \"height\": 500, \"plot_bgcolor\": \"white\", \"showlegend\": true, \"template\": {\"data\": {\"bar\": [{\"error_x\": {\"color\": \"#2a3f5f\"}, \"error_y\": {\"color\": \"#2a3f5f\"}, \"marker\": {\"line\": {\"color\": \"#E5ECF6\", \"width\": 0.5}}, \"type\": \"bar\"}], \"barpolar\": [{\"marker\": {\"line\": {\"color\": \"#E5ECF6\", \"width\": 0.5}}, \"type\": \"barpolar\"}], \"carpet\": [{\"aaxis\": {\"endlinecolor\": \"#2a3f5f\", \"gridcolor\": \"white\", \"linecolor\": \"white\", \"minorgridcolor\": \"white\", \"startlinecolor\": \"#2a3f5f\"}, \"baxis\": {\"endlinecolor\": \"#2a3f5f\", \"gridcolor\": \"white\", \"linecolor\": \"white\", \"minorgridcolor\": \"white\", \"startlinecolor\": \"#2a3f5f\"}, \"type\": \"carpet\"}], \"choropleth\": [{\"colorbar\": {\"outlinewidth\": 0, \"ticks\": \"\"}, \"type\": \"choropleth\"}], \"contour\": [{\"colorbar\": {\"outlinewidth\": 0, \"ticks\": \"\"}, \"colorscale\": [[0.0, \"#0d0887\"], [0.1111111111111111, \"#46039f\"], [0.2222222222222222, \"#7201a8\"], [0.3333333333333333, \"#9c179e\"], [0.4444444444444444, \"#bd3786\"], [0.5555555555555556, \"#d8576b\"], [0.6666666666666666, \"#ed7953\"], [0.7777777777777778, \"#fb9f3a\"], [0.8888888888888888, \"#fdca26\"], [1.0, \"#f0f921\"]], \"type\": \"contour\"}], \"contourcarpet\": [{\"colorbar\": {\"outlinewidth\": 0, \"ticks\": \"\"}, \"type\": \"contourcarpet\"}], \"heatmap\": [{\"colorbar\": {\"outlinewidth\": 0, \"ticks\": \"\"}, \"colorscale\": [[0.0, \"#0d0887\"], [0.1111111111111111, \"#46039f\"], [0.2222222222222222, \"#7201a8\"], [0.3333333333333333, \"#9c179e\"], [0.4444444444444444, \"#bd3786\"], [0.5555555555555556, \"#d8576b\"], [0.6666666666666666, \"#ed7953\"], [0.7777777777777778, \"#fb9f3a\"], [0.8888888888888888, \"#fdca26\"], [1.0, \"#f0f921\"]], \"type\": \"heatmap\"}], \"heatmapgl\": [{\"colorbar\": {\"outlinewidth\": 0, \"ticks\": \"\"}, \"colorscale\": [[0.0, \"#0d0887\"], [0.1111111111111111, \"#46039f\"], [0.2222222222222222, \"#7201a8\"], [0.3333333333333333, \"#9c179e\"], [0.4444444444444444, \"#bd3786\"], [0.5555555555555556, \"#d8576b\"], [0.6666666666666666, \"#ed7953\"], [0.7777777777777778, \"#fb9f3a\"], [0.8888888888888888, \"#fdca26\"], [1.0, \"#f0f921\"]], \"type\": \"heatmapgl\"}], \"histogram\": [{\"marker\": {\"colorbar\": {\"outlinewidth\": 0, \"ticks\": \"\"}}, \"type\": \"histogram\"}], \"histogram2d\": [{\"colorbar\": {\"outlinewidth\": 0, \"ticks\": \"\"}, \"colorscale\": [[0.0, \"#0d0887\"], [0.1111111111111111, \"#46039f\"], [0.2222222222222222, \"#7201a8\"], [0.3333333333333333, \"#9c179e\"], [0.4444444444444444, \"#bd3786\"], [0.5555555555555556, \"#d8576b\"], [0.6666666666666666, \"#ed7953\"], [0.7777777777777778, \"#fb9f3a\"], [0.8888888888888888, \"#fdca26\"], [1.0, \"#f0f921\"]], \"type\": \"histogram2d\"}], \"histogram2dcontour\": [{\"colorbar\": {\"outlinewidth\": 0, \"ticks\": \"\"}, \"colorscale\": [[0.0, \"#0d0887\"], [0.1111111111111111, \"#46039f\"], [0.2222222222222222, \"#7201a8\"], [0.3333333333333333, \"#9c179e\"], [0.4444444444444444, \"#bd3786\"], [0.5555555555555556, \"#d8576b\"], [0.6666666666666666, \"#ed7953\"], [0.7777777777777778, \"#fb9f3a\"], [0.8888888888888888, \"#fdca26\"], [1.0, \"#f0f921\"]], \"type\": \"histogram2dcontour\"}], \"mesh3d\": [{\"colorbar\": {\"outlinewidth\": 0, \"ticks\": \"\"}, \"type\": \"mesh3d\"}], \"parcoords\": [{\"line\": {\"colorbar\": {\"outlinewidth\": 0, \"ticks\": \"\"}}, \"type\": \"parcoords\"}], \"scatter\": [{\"marker\": {\"colorbar\": {\"outlinewidth\": 0, \"ticks\": \"\"}}, \"type\": \"scatter\"}], \"scatter3d\": [{\"line\": {\"colorbar\": {\"outlinewidth\": 0, \"ticks\": \"\"}}, \"marker\": {\"colorbar\": {\"outlinewidth\": 0, \"ticks\": \"\"}}, \"type\": \"scatter3d\"}], \"scattercarpet\": [{\"marker\": {\"colorbar\": {\"outlinewidth\": 0, \"ticks\": \"\"}}, \"type\": \"scattercarpet\"}], \"scattergeo\": [{\"marker\": {\"colorbar\": {\"outlinewidth\": 0, \"ticks\": \"\"}}, \"type\": \"scattergeo\"}], \"scattergl\": [{\"marker\": {\"colorbar\": {\"outlinewidth\": 0, \"ticks\": \"\"}}, \"type\": \"scattergl\"}], \"scattermapbox\": [{\"marker\": {\"colorbar\": {\"outlinewidth\": 0, \"ticks\": \"\"}}, \"type\": \"scattermapbox\"}], \"scatterpolar\": [{\"marker\": {\"colorbar\": {\"outlinewidth\": 0, \"ticks\": \"\"}}, \"type\": \"scatterpolar\"}], \"scatterpolargl\": [{\"marker\": {\"colorbar\": {\"outlinewidth\": 0, \"ticks\": \"\"}}, \"type\": \"scatterpolargl\"}], \"scatterternary\": [{\"marker\": {\"colorbar\": {\"outlinewidth\": 0, \"ticks\": \"\"}}, \"type\": \"scatterternary\"}], \"surface\": [{\"colorbar\": {\"outlinewidth\": 0, \"ticks\": \"\"}, \"colorscale\": [[0.0, \"#0d0887\"], [0.1111111111111111, \"#46039f\"], [0.2222222222222222, \"#7201a8\"], [0.3333333333333333, \"#9c179e\"], [0.4444444444444444, \"#bd3786\"], [0.5555555555555556, \"#d8576b\"], [0.6666666666666666, \"#ed7953\"], [0.7777777777777778, \"#fb9f3a\"], [0.8888888888888888, \"#fdca26\"], [1.0, \"#f0f921\"]], \"type\": \"surface\"}], \"table\": [{\"cells\": {\"fill\": {\"color\": \"#EBF0F8\"}, \"line\": {\"color\": \"white\"}}, \"header\": {\"fill\": {\"color\": \"#C8D4E3\"}, \"line\": {\"color\": \"white\"}}, \"type\": \"table\"}]}, \"layout\": {\"annotationdefaults\": {\"arrowcolor\": \"#2a3f5f\", \"arrowhead\": 0, \"arrowwidth\": 1}, \"colorscale\": {\"diverging\": [[0, \"#8e0152\"], [0.1, \"#c51b7d\"], [0.2, \"#de77ae\"], [0.3, \"#f1b6da\"], [0.4, \"#fde0ef\"], [0.5, \"#f7f7f7\"], [0.6, \"#e6f5d0\"], [0.7, \"#b8e186\"], [0.8, \"#7fbc41\"], [0.9, \"#4d9221\"], [1, \"#276419\"]], \"sequential\": [[0.0, \"#0d0887\"], [0.1111111111111111, \"#46039f\"], [0.2222222222222222, \"#7201a8\"], [0.3333333333333333, \"#9c179e\"], [0.4444444444444444, \"#bd3786\"], [0.5555555555555556, \"#d8576b\"], [0.6666666666666666, \"#ed7953\"], [0.7777777777777778, \"#fb9f3a\"], [0.8888888888888888, \"#fdca26\"], [1.0, \"#f0f921\"]], \"sequentialminus\": [[0.0, \"#0d0887\"], [0.1111111111111111, \"#46039f\"], [0.2222222222222222, \"#7201a8\"], [0.3333333333333333, \"#9c179e\"], [0.4444444444444444, \"#bd3786\"], [0.5555555555555556, \"#d8576b\"], [0.6666666666666666, \"#ed7953\"], [0.7777777777777778, \"#fb9f3a\"], [0.8888888888888888, \"#fdca26\"], [1.0, \"#f0f921\"]]}, \"colorway\": [\"#636efa\", \"#EF553B\", \"#00cc96\", \"#ab63fa\", \"#FFA15A\", \"#19d3f3\", \"#FF6692\", \"#B6E880\", \"#FF97FF\", \"#FECB52\"], \"font\": {\"color\": \"#2a3f5f\"}, \"geo\": {\"bgcolor\": \"white\", \"lakecolor\": \"white\", \"landcolor\": \"#E5ECF6\", \"showlakes\": true, \"showland\": true, \"subunitcolor\": \"white\"}, \"hoverlabel\": {\"align\": \"left\"}, \"hovermode\": \"closest\", \"mapbox\": {\"style\": \"light\"}, \"paper_bgcolor\": \"white\", \"plot_bgcolor\": \"#E5ECF6\", \"polar\": {\"angularaxis\": {\"gridcolor\": \"white\", \"linecolor\": \"white\", \"ticks\": \"\"}, \"bgcolor\": \"#E5ECF6\", \"radialaxis\": {\"gridcolor\": \"white\", \"linecolor\": \"white\", \"ticks\": \"\"}}, \"scene\": {\"xaxis\": {\"backgroundcolor\": \"#E5ECF6\", \"gridcolor\": \"white\", \"gridwidth\": 2, \"linecolor\": \"white\", \"showbackground\": true, \"ticks\": \"\", \"zerolinecolor\": \"white\"}, \"yaxis\": {\"backgroundcolor\": \"#E5ECF6\", \"gridcolor\": \"white\", \"gridwidth\": 2, \"linecolor\": \"white\", \"showbackground\": true, \"ticks\": \"\", \"zerolinecolor\": \"white\"}, \"zaxis\": {\"backgroundcolor\": \"#E5ECF6\", \"gridcolor\": \"white\", \"gridwidth\": 2, \"linecolor\": \"white\", \"showbackground\": true, \"ticks\": \"\", \"zerolinecolor\": \"white\"}}, \"shapedefaults\": {\"line\": {\"color\": \"#2a3f5f\"}}, \"ternary\": {\"aaxis\": {\"gridcolor\": \"white\", \"linecolor\": \"white\", \"ticks\": \"\"}, \"baxis\": {\"gridcolor\": \"white\", \"linecolor\": \"white\", \"ticks\": \"\"}, \"bgcolor\": \"#E5ECF6\", \"caxis\": {\"gridcolor\": \"white\", \"linecolor\": \"white\", \"ticks\": \"\"}}, \"title\": {\"x\": 0.05}, \"xaxis\": {\"automargin\": true, \"gridcolor\": \"white\", \"linecolor\": \"white\", \"ticks\": \"\", \"zerolinecolor\": \"white\", \"zerolinewidth\": 2}, \"yaxis\": {\"automargin\": true, \"gridcolor\": \"white\", \"linecolor\": \"white\", \"ticks\": \"\", \"zerolinecolor\": \"white\", \"zerolinewidth\": 2}}}, \"title\": {\"font\": {\"size\": 25}, \"text\": \"<b>\\uad6d\\ub0b4 \\uc2e0\\uc885 \\ucf54\\ub85c\\ub098 \\ubc14\\uc774\\ub7ec\\uc2a4 \\ud655\\uc9c4\\uc790</b>\"}, \"width\": 900, \"xaxis\": {\"gridcolor\": \"rgb(204, 204, 204)\", \"linecolor\": \"rgb(204, 204, 204)\", \"linewidth\": 2, \"showgrid\": true, \"showline\": true, \"showticklabels\": true, \"tickfont\": {\"color\": \"rgb(82, 82, 82)\", \"family\": \"Arial\", \"size\": 12}, \"ticks\": \"outside\"}, \"yaxis\": {\"showgrid\": false, \"showline\": false, \"showticklabels\": false, \"zeroline\": false}},\n",
       "                        {\"responsive\": true}\n",
       "                    ).then(function(){\n",
       "                            \n",
       "var gd = document.getElementById('0024c002-c467-4550-8658-204d06b28866');\n",
       "var x = new MutationObserver(function (mutations, observer) {{\n",
       "        var display = window.getComputedStyle(gd).display;\n",
       "        if (!display || display === 'none') {{\n",
       "            console.log([gd, 'removed!']);\n",
       "            Plotly.purge(gd);\n",
       "            observer.disconnect();\n",
       "        }}\n",
       "}});\n",
       "\n",
       "// Listen for the removal of the full notebook cells\n",
       "var notebookContainer = gd.closest('#notebook-container');\n",
       "if (notebookContainer) {{\n",
       "    x.observe(notebookContainer, {childList: true});\n",
       "}}\n",
       "\n",
       "// Listen for the clearing of the current output cell\n",
       "var outputEl = gd.closest('.output');\n",
       "if (outputEl) {{\n",
       "    x.observe(outputEl, {childList: true});\n",
       "}}\n",
       "\n",
       "                        })\n",
       "                };\n",
       "                });\n",
       "            </script>\n",
       "        </div>"
      ]
     },
     "metadata": {},
     "output_type": "display_data"
    }
   ],
   "source": [
    "fig = go.Figure()\n",
    "\n",
    "fig.add_trace(go.Scatter(x=list(data1.확진날짜), y=list(data1.pos), mode='markers', \n",
    "                         marker=dict(size=30, color='rgb(193,221,247)'), \n",
    "                         text= text1, hoverinfo='text',\n",
    "                         name='1차 감염자'\n",
    "                        ))\n",
    "\n",
    "fig.add_trace(go.Scatter(x=list(data2.확진날짜), y=list(data2.pos), mode='markers', \n",
    "                         marker=dict(size=30, color='rgb(193,221,247)',\n",
    "                                    line=dict(color='rgb(36,137,228)', width=2)), \n",
    "                         text=text2, hoverinfo='text',\n",
    "                         name='2차 감염자'\n",
    "                       ))\n",
    "\n",
    "fig.add_trace(go.Scatter(x=list(data3.확진날짜), y=list(data3.pos), mode='markers', \n",
    "                         marker=dict(size=30, color='rgb(193,221,247)',\n",
    "                                    line=dict(color='rgb(18,85,146)', width=2)), \n",
    "                         text=text3, hoverinfo='text',\n",
    "                         name='3차 감염자'\n",
    "                        ))\n",
    "\n",
    "\n",
    "# 축 설정 및 기본 레이아웃\n",
    "fig.update_layout(xaxis=dict(showline=True, showgrid=True,gridcolor='rgb(204, 204, 204)', showticklabels=True,\n",
    "                             linecolor='rgb(204, 204, 204)', linewidth=2, ticks='outside',\n",
    "                             tickfont=dict(family='Arial', size=12, color='rgb(82, 82, 82)')),\n",
    "                  yaxis=dict(showgrid=False,zeroline=False, showline=False,showticklabels=False),    \n",
    "                  autosize=False, showlegend=True, width=900, height=500,\n",
    "                  plot_bgcolor='white', title='<b>국내 신종 코로나 바이러스 확진자</b>',title_font_size=25)\n",
    "\n",
    "\n",
    "annotations =[]\n",
    "\n",
    "# Annotation : 확진자 번호\n",
    "for x, y, text in zip(data.확진날짜, data.pos, data.확진자):\n",
    "    annotations.append(dict(x=x, y=y, text=text, font=dict(size=12),showarrow=False))\n",
    "\n",
    "# Annotation : 부제목\n",
    "annotations.append(dict(xref='paper', yref='paper', x=0, y=1.06, xanchor='left', yanchor='bottom',\n",
    "                             text='2020년 02월 05일 기준',\n",
    "                             font=dict(size=15, color='rgb(100,100,100)'),showarrow=False))\n",
    "\n",
    "# Annotation: 출처\n",
    "annotations.append(dict(xref='paper', yref='paper', x=0.5, y=-0.1, xanchor='center', yanchor='top',\n",
    "                              text='데이터 출처: KBS 디지털뉴스 http://dj.kbs.co.kr/resources/2020-02-03/',\n",
    "                              font=dict(family='Arial', size=11, color='rgb(120,120,120)'),\n",
    "                              showarrow=False))\n",
    "\n",
    "# Annotation: 감염단계 화살표\n",
    "annotations.append(dict(x=\"2020-01-29\", y=10, showarrow=True, ax=-120, ay=0,\n",
    "                       arrowcolor='rgb(36,137,228)', arrowsize=2, arrowwidth=2, arrowhead=1, xshift=20))\n",
    "\n",
    "annotations.append(dict(x=\"2020-01-31\", y=13, showarrow=True, ax=-20, ay=10, xshift=-14, yshift=-5,\n",
    "                       arrowcolor='rgb(18,85,146)', arrowwidth=2,arrowhead=1))\n",
    "\n",
    "annotations.append(dict(x=\"2020-01-31\", y=7, showarrow=True, ax=-20, ay=-10, xshift=-14, yshift=5,\n",
    "                       arrowcolor='rgb(18,85,146)', arrowwidth=2,arrowhead=1))\n",
    "\n",
    "annotations.append(dict(x=\"2020-01-31\", y=20, showarrow=True, ax=-18, ay=0, xshift=-12,\n",
    "                       arrowcolor='rgb(36,137,228)', arrowwidth=2,arrowhead=1))\n",
    "\n",
    "annotations.append(dict(x=\"2020-02-02\", y=20, showarrow=True, ax=-18, ay=0, xshift=-12,\n",
    "                       arrowcolor='rgb(36,137,228)', arrowwidth=2, arrowhead=1))\n",
    "\n",
    "annotations.append(dict(x=\"2020-02-05\", y=20, showarrow=True, ax=-18, ay=0, xshift=-12,\n",
    "                       arrowcolor='rgb(36,137,228)', arrowwidth=2, arrowhead=1))\n",
    "\n",
    "annotations.append(dict(x=\"2020-01-24\", y=20, showarrow=False, text=\"<b>완치!</b>\",yshift=23,\n",
    "                        font=dict(size=12, color=\"rgb(222,98,92)\")))\n",
    "\n",
    "fig.update_layout(annotations=annotations)\n",
    "\n",
    "fig.show()"
   ]
  }
 ],
 "metadata": {
  "kernelspec": {
   "display_name": "Python 3",
   "language": "python",
   "name": "python3"
  },
  "language_info": {
   "codemirror_mode": {
    "name": "ipython",
    "version": 3
   },
   "file_extension": ".py",
   "mimetype": "text/x-python",
   "name": "python",
   "nbconvert_exporter": "python",
   "pygments_lexer": "ipython3",
   "version": "3.7.3"
  }
 },
 "nbformat": 4,
 "nbformat_minor": 2
}
